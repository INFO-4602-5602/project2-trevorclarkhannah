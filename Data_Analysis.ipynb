{
 "cells": [
  {
   "cell_type": "markdown",
   "metadata": {},
   "source": [
    "# Project 2 - Hannah's Analysis"
   ]
  },
  {
   "cell_type": "code",
   "execution_count": 1,
   "metadata": {},
   "outputs": [],
   "source": [
    "import pandas as pd\n",
    "import numpy as np"
   ]
  },
  {
   "cell_type": "code",
   "execution_count": 2,
   "metadata": {},
   "outputs": [],
   "source": [
    "df = pd.read_csv(\"WikiArtClean.csv\")"
   ]
  },
  {
   "cell_type": "markdown",
   "metadata": {},
   "source": [
    "## Quick EDA"
   ]
  },
  {
   "cell_type": "markdown",
   "metadata": {},
   "source": [
    "### #1: Formulate your questions\n",
    "1. Which painting has the highest rating?\n",
    "2. Which painting had the lowest rating?"
   ]
  },
  {
   "cell_type": "markdown",
   "metadata": {},
   "source": [
    "### #2: Read in your data"
   ]
  },
  {
   "cell_type": "code",
   "execution_count": 3,
   "metadata": {},
   "outputs": [
    {
     "data": {
      "text/plain": [
       "Index(['Style', 'Category', 'Artist', 'Title', 'Year', 'Image URL',\n",
       "       'Painting Info URL', 'Artist Info URL', 'Is painting', 'Face or body',\n",
       "       'Mean rating', 'Agreeableness', 'Anger', 'Anticipation', 'Arrogance',\n",
       "       'Disagreeableness', 'Disgust', 'Fear', 'Gratitude', 'Happiness',\n",
       "       'Humility', 'Love', 'Optimism', 'Pessimism', 'Regret', 'Sadness',\n",
       "       'Shame', 'Shyness', 'Surprise', 'Trust', 'Neutral'],\n",
       "      dtype='object')"
      ]
     },
     "execution_count": 3,
     "metadata": {},
     "output_type": "execute_result"
    }
   ],
   "source": [
    "df.columns"
   ]
  },
  {
   "cell_type": "markdown",
   "metadata": {},
   "source": [
    "### #3: Check the packaging"
   ]
  },
  {
   "cell_type": "code",
   "execution_count": 4,
   "metadata": {},
   "outputs": [
    {
     "data": {
      "text/plain": [
       "(3646, 31)"
      ]
     },
     "execution_count": 4,
     "metadata": {},
     "output_type": "execute_result"
    }
   ],
   "source": [
    "df.shape"
   ]
  },
  {
   "cell_type": "markdown",
   "metadata": {},
   "source": [
    "### #4: Look at the top and bottom"
   ]
  },
  {
   "cell_type": "code",
   "execution_count": 5,
   "metadata": {},
   "outputs": [
    {
     "data": {
      "text/html": [
       "<div>\n",
       "<style scoped>\n",
       "    .dataframe tbody tr th:only-of-type {\n",
       "        vertical-align: middle;\n",
       "    }\n",
       "\n",
       "    .dataframe tbody tr th {\n",
       "        vertical-align: top;\n",
       "    }\n",
       "\n",
       "    .dataframe thead th {\n",
       "        text-align: right;\n",
       "    }\n",
       "</style>\n",
       "<table border=\"1\" class=\"dataframe\">\n",
       "  <thead>\n",
       "    <tr style=\"text-align: right;\">\n",
       "      <th></th>\n",
       "      <th>Style</th>\n",
       "      <th>Category</th>\n",
       "      <th>Artist</th>\n",
       "      <th>Title</th>\n",
       "      <th>Year</th>\n",
       "      <th>Image URL</th>\n",
       "      <th>Painting Info URL</th>\n",
       "      <th>Artist Info URL</th>\n",
       "      <th>Is painting</th>\n",
       "      <th>Face or body</th>\n",
       "      <th>...</th>\n",
       "      <th>Love</th>\n",
       "      <th>Optimism</th>\n",
       "      <th>Pessimism</th>\n",
       "      <th>Regret</th>\n",
       "      <th>Sadness</th>\n",
       "      <th>Shame</th>\n",
       "      <th>Shyness</th>\n",
       "      <th>Surprise</th>\n",
       "      <th>Trust</th>\n",
       "      <th>Neutral</th>\n",
       "    </tr>\n",
       "  </thead>\n",
       "  <tbody>\n",
       "    <tr>\n",
       "      <th>0</th>\n",
       "      <td>Renaissance Art</td>\n",
       "      <td>Northern Renaissance</td>\n",
       "      <td>Robert Campin</td>\n",
       "      <td>Triptych: The Two Thieves with the Empty Cross...</td>\n",
       "      <td>1415</td>\n",
       "      <td>https://use2-uploads7.wikiart.org/images/rober...</td>\n",
       "      <td>https://www.wikiart.org/en/robert-campin/tript...</td>\n",
       "      <td>https://www.wikiart.org/en/robert-campin</td>\n",
       "      <td>yes</td>\n",
       "      <td>face</td>\n",
       "      <td>...</td>\n",
       "      <td>0.000</td>\n",
       "      <td>0.000</td>\n",
       "      <td>0.000</td>\n",
       "      <td>0.1</td>\n",
       "      <td>0.400</td>\n",
       "      <td>0.000</td>\n",
       "      <td>0.0</td>\n",
       "      <td>0.100</td>\n",
       "      <td>0.500</td>\n",
       "      <td>0.0</td>\n",
       "    </tr>\n",
       "    <tr>\n",
       "      <th>1</th>\n",
       "      <td>Renaissance Art</td>\n",
       "      <td>Early Renaissance</td>\n",
       "      <td>Masaccio</td>\n",
       "      <td>St. Juvenal Triptych</td>\n",
       "      <td>1422</td>\n",
       "      <td>https://use2-uploads3.wikiart.org/images/masac...</td>\n",
       "      <td>https://www.wikiart.org/en/masaccio/st-juvenal...</td>\n",
       "      <td>https://www.wikiart.org/en/masaccio</td>\n",
       "      <td>yes</td>\n",
       "      <td>face</td>\n",
       "      <td>...</td>\n",
       "      <td>0.313</td>\n",
       "      <td>0.188</td>\n",
       "      <td>0.000</td>\n",
       "      <td>0.0</td>\n",
       "      <td>0.063</td>\n",
       "      <td>0.000</td>\n",
       "      <td>0.0</td>\n",
       "      <td>0.000</td>\n",
       "      <td>0.688</td>\n",
       "      <td>0.0</td>\n",
       "    </tr>\n",
       "    <tr>\n",
       "      <th>2</th>\n",
       "      <td>Renaissance Art</td>\n",
       "      <td>Northern Renaissance</td>\n",
       "      <td>Robert Campin</td>\n",
       "      <td>Blessing Christ and Praying Virgin</td>\n",
       "      <td>1424</td>\n",
       "      <td>https://use2-uploads0.wikiart.org/images/rober...</td>\n",
       "      <td>https://www.wikiart.org/en/robert-campin/bless...</td>\n",
       "      <td>https://www.wikiart.org/en/robert-campin</td>\n",
       "      <td>yes</td>\n",
       "      <td>face</td>\n",
       "      <td>...</td>\n",
       "      <td>0.300</td>\n",
       "      <td>0.200</td>\n",
       "      <td>0.000</td>\n",
       "      <td>0.1</td>\n",
       "      <td>0.000</td>\n",
       "      <td>0.000</td>\n",
       "      <td>0.0</td>\n",
       "      <td>0.000</td>\n",
       "      <td>0.600</td>\n",
       "      <td>0.0</td>\n",
       "    </tr>\n",
       "    <tr>\n",
       "      <th>3</th>\n",
       "      <td>Renaissance Art</td>\n",
       "      <td>Early Renaissance</td>\n",
       "      <td>Masaccio</td>\n",
       "      <td>The Tribute Money</td>\n",
       "      <td>1425</td>\n",
       "      <td>https://use2-uploads1.wikiart.org/images/masac...</td>\n",
       "      <td>https://www.wikiart.org/en/masaccio/the-tribut...</td>\n",
       "      <td>https://www.wikiart.org/en/masaccio</td>\n",
       "      <td>yes</td>\n",
       "      <td>face</td>\n",
       "      <td>...</td>\n",
       "      <td>0.000</td>\n",
       "      <td>0.083</td>\n",
       "      <td>0.083</td>\n",
       "      <td>0.0</td>\n",
       "      <td>0.000</td>\n",
       "      <td>0.083</td>\n",
       "      <td>0.0</td>\n",
       "      <td>0.167</td>\n",
       "      <td>0.500</td>\n",
       "      <td>0.0</td>\n",
       "    </tr>\n",
       "    <tr>\n",
       "      <th>4</th>\n",
       "      <td>Renaissance Art</td>\n",
       "      <td>Early Renaissance</td>\n",
       "      <td>Masaccio</td>\n",
       "      <td>St. Paul</td>\n",
       "      <td>1426</td>\n",
       "      <td>https://use2-uploads0.wikiart.org/images/masac...</td>\n",
       "      <td>https://www.wikiart.org/en/masaccio/st-paul-1426</td>\n",
       "      <td>https://www.wikiart.org/en/masaccio</td>\n",
       "      <td>yes</td>\n",
       "      <td>face</td>\n",
       "      <td>...</td>\n",
       "      <td>0.091</td>\n",
       "      <td>0.273</td>\n",
       "      <td>0.000</td>\n",
       "      <td>0.0</td>\n",
       "      <td>0.364</td>\n",
       "      <td>0.000</td>\n",
       "      <td>0.0</td>\n",
       "      <td>0.091</td>\n",
       "      <td>0.364</td>\n",
       "      <td>0.0</td>\n",
       "    </tr>\n",
       "  </tbody>\n",
       "</table>\n",
       "<p>5 rows × 31 columns</p>\n",
       "</div>"
      ],
      "text/plain": [
       "             Style              Category         Artist  \\\n",
       "0  Renaissance Art  Northern Renaissance  Robert Campin   \n",
       "1  Renaissance Art     Early Renaissance       Masaccio   \n",
       "2  Renaissance Art  Northern Renaissance  Robert Campin   \n",
       "3  Renaissance Art     Early Renaissance       Masaccio   \n",
       "4  Renaissance Art     Early Renaissance       Masaccio   \n",
       "\n",
       "                                               Title  Year  \\\n",
       "0  Triptych: The Two Thieves with the Empty Cross...  1415   \n",
       "1                               St. Juvenal Triptych  1422   \n",
       "2                 Blessing Christ and Praying Virgin  1424   \n",
       "3                                  The Tribute Money  1425   \n",
       "4                                           St. Paul  1426   \n",
       "\n",
       "                                           Image URL  \\\n",
       "0  https://use2-uploads7.wikiart.org/images/rober...   \n",
       "1  https://use2-uploads3.wikiart.org/images/masac...   \n",
       "2  https://use2-uploads0.wikiart.org/images/rober...   \n",
       "3  https://use2-uploads1.wikiart.org/images/masac...   \n",
       "4  https://use2-uploads0.wikiart.org/images/masac...   \n",
       "\n",
       "                                   Painting Info URL  \\\n",
       "0  https://www.wikiart.org/en/robert-campin/tript...   \n",
       "1  https://www.wikiart.org/en/masaccio/st-juvenal...   \n",
       "2  https://www.wikiart.org/en/robert-campin/bless...   \n",
       "3  https://www.wikiart.org/en/masaccio/the-tribut...   \n",
       "4   https://www.wikiart.org/en/masaccio/st-paul-1426   \n",
       "\n",
       "                            Artist Info URL Is painting Face or body   ...     \\\n",
       "0  https://www.wikiart.org/en/robert-campin         yes         face   ...      \n",
       "1       https://www.wikiart.org/en/masaccio         yes         face   ...      \n",
       "2  https://www.wikiart.org/en/robert-campin         yes         face   ...      \n",
       "3       https://www.wikiart.org/en/masaccio         yes         face   ...      \n",
       "4       https://www.wikiart.org/en/masaccio         yes         face   ...      \n",
       "\n",
       "    Love  Optimism  Pessimism  Regret  Sadness  Shame  Shyness  Surprise  \\\n",
       "0  0.000     0.000      0.000     0.1    0.400  0.000      0.0     0.100   \n",
       "1  0.313     0.188      0.000     0.0    0.063  0.000      0.0     0.000   \n",
       "2  0.300     0.200      0.000     0.1    0.000  0.000      0.0     0.000   \n",
       "3  0.000     0.083      0.083     0.0    0.000  0.083      0.0     0.167   \n",
       "4  0.091     0.273      0.000     0.0    0.364  0.000      0.0     0.091   \n",
       "\n",
       "   Trust  Neutral  \n",
       "0  0.500      0.0  \n",
       "1  0.688      0.0  \n",
       "2  0.600      0.0  \n",
       "3  0.500      0.0  \n",
       "4  0.364      0.0  \n",
       "\n",
       "[5 rows x 31 columns]"
      ]
     },
     "execution_count": 5,
     "metadata": {},
     "output_type": "execute_result"
    }
   ],
   "source": [
    "df.head()"
   ]
  },
  {
   "cell_type": "code",
   "execution_count": 6,
   "metadata": {},
   "outputs": [
    {
     "data": {
      "text/html": [
       "<div>\n",
       "<style scoped>\n",
       "    .dataframe tbody tr th:only-of-type {\n",
       "        vertical-align: middle;\n",
       "    }\n",
       "\n",
       "    .dataframe tbody tr th {\n",
       "        vertical-align: top;\n",
       "    }\n",
       "\n",
       "    .dataframe thead th {\n",
       "        text-align: right;\n",
       "    }\n",
       "</style>\n",
       "<table border=\"1\" class=\"dataframe\">\n",
       "  <thead>\n",
       "    <tr style=\"text-align: right;\">\n",
       "      <th></th>\n",
       "      <th>Style</th>\n",
       "      <th>Category</th>\n",
       "      <th>Artist</th>\n",
       "      <th>Title</th>\n",
       "      <th>Year</th>\n",
       "      <th>Image URL</th>\n",
       "      <th>Painting Info URL</th>\n",
       "      <th>Artist Info URL</th>\n",
       "      <th>Is painting</th>\n",
       "      <th>Face or body</th>\n",
       "      <th>...</th>\n",
       "      <th>Love</th>\n",
       "      <th>Optimism</th>\n",
       "      <th>Pessimism</th>\n",
       "      <th>Regret</th>\n",
       "      <th>Sadness</th>\n",
       "      <th>Shame</th>\n",
       "      <th>Shyness</th>\n",
       "      <th>Surprise</th>\n",
       "      <th>Trust</th>\n",
       "      <th>Neutral</th>\n",
       "    </tr>\n",
       "  </thead>\n",
       "  <tbody>\n",
       "    <tr>\n",
       "      <th>3641</th>\n",
       "      <td>Modern Art</td>\n",
       "      <td>Magic Realism</td>\n",
       "      <td>Nina Tokhtaman Valetova</td>\n",
       "      <td>Infinity</td>\n",
       "      <td>2007</td>\n",
       "      <td>https://use2-uploads3.wikiart.org/00124/images...</td>\n",
       "      <td>https://www.wikiart.org/en/nina-tokhtaman-vale...</td>\n",
       "      <td>https://www.wikiart.org/en/nina-tokhtaman-vale...</td>\n",
       "      <td>yes</td>\n",
       "      <td>face</td>\n",
       "      <td>...</td>\n",
       "      <td>0.182</td>\n",
       "      <td>0.091</td>\n",
       "      <td>0.000</td>\n",
       "      <td>0.000</td>\n",
       "      <td>0.182</td>\n",
       "      <td>0.000</td>\n",
       "      <td>0.000</td>\n",
       "      <td>0.727</td>\n",
       "      <td>0.091</td>\n",
       "      <td>0.0</td>\n",
       "    </tr>\n",
       "    <tr>\n",
       "      <th>3642</th>\n",
       "      <td>Modern Art</td>\n",
       "      <td>Magic Realism</td>\n",
       "      <td>Zhang Xiaogang</td>\n",
       "      <td>Little Navy</td>\n",
       "      <td>2007</td>\n",
       "      <td>https://use2-uploads1.wikiart.org/images/zhang...</td>\n",
       "      <td>https://www.wikiart.org/en/zhang-xiaogang/litt...</td>\n",
       "      <td>https://www.wikiart.org/en/zhang-xiaogang</td>\n",
       "      <td>yes</td>\n",
       "      <td>face</td>\n",
       "      <td>...</td>\n",
       "      <td>0.069</td>\n",
       "      <td>0.125</td>\n",
       "      <td>0.042</td>\n",
       "      <td>0.000</td>\n",
       "      <td>0.069</td>\n",
       "      <td>0.111</td>\n",
       "      <td>0.097</td>\n",
       "      <td>0.264</td>\n",
       "      <td>0.125</td>\n",
       "      <td>0.0</td>\n",
       "    </tr>\n",
       "    <tr>\n",
       "      <th>3643</th>\n",
       "      <td>Modern Art</td>\n",
       "      <td>Magic Realism</td>\n",
       "      <td>Consuelo Hern&amp;#225;ndez</td>\n",
       "      <td>Winter in the Gran Teatro Cervantes of Tanger</td>\n",
       "      <td>2011</td>\n",
       "      <td>https://use2-uploads1.wikiart.org/00121/images...</td>\n",
       "      <td>https://www.wikiart.org/en/consuelo-hernandez/...</td>\n",
       "      <td>https://www.wikiart.org/en/consuelo-hernandez</td>\n",
       "      <td>yes</td>\n",
       "      <td>none</td>\n",
       "      <td>...</td>\n",
       "      <td>0.000</td>\n",
       "      <td>0.273</td>\n",
       "      <td>0.091</td>\n",
       "      <td>0.091</td>\n",
       "      <td>0.182</td>\n",
       "      <td>0.000</td>\n",
       "      <td>0.091</td>\n",
       "      <td>0.091</td>\n",
       "      <td>0.273</td>\n",
       "      <td>0.0</td>\n",
       "    </tr>\n",
       "    <tr>\n",
       "      <th>3644</th>\n",
       "      <td>Modern Art</td>\n",
       "      <td>Magic Realism</td>\n",
       "      <td>Consuelo Hern&amp;#225;ndez</td>\n",
       "      <td>Planet in Roma</td>\n",
       "      <td>2012</td>\n",
       "      <td>https://use2-uploads0.wikiart.org/00120/images...</td>\n",
       "      <td>https://www.wikiart.org/en/consuelo-hernandez/...</td>\n",
       "      <td>https://www.wikiart.org/en/consuelo-hernandez</td>\n",
       "      <td>yes</td>\n",
       "      <td>none</td>\n",
       "      <td>...</td>\n",
       "      <td>0.091</td>\n",
       "      <td>0.091</td>\n",
       "      <td>0.091</td>\n",
       "      <td>0.091</td>\n",
       "      <td>0.091</td>\n",
       "      <td>0.091</td>\n",
       "      <td>0.091</td>\n",
       "      <td>0.000</td>\n",
       "      <td>0.182</td>\n",
       "      <td>0.0</td>\n",
       "    </tr>\n",
       "    <tr>\n",
       "      <th>3645</th>\n",
       "      <td>Modern Art</td>\n",
       "      <td>Magic Realism</td>\n",
       "      <td>Fusun Onur</td>\n",
       "      <td>Dance of the Crows</td>\n",
       "      <td>2012</td>\n",
       "      <td>https://use2-uploads4.wikiart.org/images/fusun...</td>\n",
       "      <td>https://www.wikiart.org/en/fusun-onur/dance-of...</td>\n",
       "      <td>https://www.wikiart.org/en/fusun-onur</td>\n",
       "      <td>yes</td>\n",
       "      <td>body</td>\n",
       "      <td>...</td>\n",
       "      <td>0.000</td>\n",
       "      <td>0.100</td>\n",
       "      <td>0.100</td>\n",
       "      <td>0.000</td>\n",
       "      <td>0.100</td>\n",
       "      <td>0.000</td>\n",
       "      <td>0.000</td>\n",
       "      <td>0.200</td>\n",
       "      <td>0.000</td>\n",
       "      <td>0.0</td>\n",
       "    </tr>\n",
       "  </tbody>\n",
       "</table>\n",
       "<p>5 rows × 31 columns</p>\n",
       "</div>"
      ],
      "text/plain": [
       "           Style       Category                   Artist  \\\n",
       "3641  Modern Art  Magic Realism  Nina Tokhtaman Valetova   \n",
       "3642  Modern Art  Magic Realism           Zhang Xiaogang   \n",
       "3643  Modern Art  Magic Realism  Consuelo Hern&#225;ndez   \n",
       "3644  Modern Art  Magic Realism  Consuelo Hern&#225;ndez   \n",
       "3645  Modern Art  Magic Realism               Fusun Onur   \n",
       "\n",
       "                                              Title  Year  \\\n",
       "3641                                       Infinity  2007   \n",
       "3642                                    Little Navy  2007   \n",
       "3643  Winter in the Gran Teatro Cervantes of Tanger  2011   \n",
       "3644                                 Planet in Roma  2012   \n",
       "3645                             Dance of the Crows  2012   \n",
       "\n",
       "                                              Image URL  \\\n",
       "3641  https://use2-uploads3.wikiart.org/00124/images...   \n",
       "3642  https://use2-uploads1.wikiart.org/images/zhang...   \n",
       "3643  https://use2-uploads1.wikiart.org/00121/images...   \n",
       "3644  https://use2-uploads0.wikiart.org/00120/images...   \n",
       "3645  https://use2-uploads4.wikiart.org/images/fusun...   \n",
       "\n",
       "                                      Painting Info URL  \\\n",
       "3641  https://www.wikiart.org/en/nina-tokhtaman-vale...   \n",
       "3642  https://www.wikiart.org/en/zhang-xiaogang/litt...   \n",
       "3643  https://www.wikiart.org/en/consuelo-hernandez/...   \n",
       "3644  https://www.wikiart.org/en/consuelo-hernandez/...   \n",
       "3645  https://www.wikiart.org/en/fusun-onur/dance-of...   \n",
       "\n",
       "                                        Artist Info URL Is painting  \\\n",
       "3641  https://www.wikiart.org/en/nina-tokhtaman-vale...         yes   \n",
       "3642          https://www.wikiart.org/en/zhang-xiaogang         yes   \n",
       "3643      https://www.wikiart.org/en/consuelo-hernandez         yes   \n",
       "3644      https://www.wikiart.org/en/consuelo-hernandez         yes   \n",
       "3645              https://www.wikiart.org/en/fusun-onur         yes   \n",
       "\n",
       "     Face or body   ...      Love  Optimism  Pessimism  Regret  Sadness  \\\n",
       "3641         face   ...     0.182     0.091      0.000   0.000    0.182   \n",
       "3642         face   ...     0.069     0.125      0.042   0.000    0.069   \n",
       "3643         none   ...     0.000     0.273      0.091   0.091    0.182   \n",
       "3644         none   ...     0.091     0.091      0.091   0.091    0.091   \n",
       "3645         body   ...     0.000     0.100      0.100   0.000    0.100   \n",
       "\n",
       "      Shame  Shyness  Surprise  Trust  Neutral  \n",
       "3641  0.000    0.000     0.727  0.091      0.0  \n",
       "3642  0.111    0.097     0.264  0.125      0.0  \n",
       "3643  0.000    0.091     0.091  0.273      0.0  \n",
       "3644  0.091    0.091     0.000  0.182      0.0  \n",
       "3645  0.000    0.000     0.200  0.000      0.0  \n",
       "\n",
       "[5 rows x 31 columns]"
      ]
     },
     "execution_count": 6,
     "metadata": {},
     "output_type": "execute_result"
    }
   ],
   "source": [
    "df.tail()"
   ]
  },
  {
   "cell_type": "markdown",
   "metadata": {},
   "source": [
    "### #5: Check the n's"
   ]
  },
  {
   "cell_type": "code",
   "execution_count": 7,
   "metadata": {},
   "outputs": [
    {
     "name": "stdout",
     "output_type": "stream",
     "text": [
      "Style:\n"
     ]
    },
    {
     "data": {
      "text/plain": [
       "Modern Art                         2362\n",
       "Post Renaissance Art                800\n",
       "Renaissance Art                     287\n",
       "Contemporary Art                    189\n",
       "Contemporary Art,Modern Art           7\n",
       "Modern Art,Post Renaissance Art       1\n",
       "Name: Style, dtype: int64"
      ]
     },
     "execution_count": 7,
     "metadata": {},
     "output_type": "execute_result"
    }
   ],
   "source": [
    "print(\"Style:\")\n",
    "df[\"Style\"].value_counts()"
   ]
  },
  {
   "cell_type": "code",
   "execution_count": 8,
   "metadata": {},
   "outputs": [
    {
     "name": "stdout",
     "output_type": "stream",
     "text": [
      "Category:\n"
     ]
    },
    {
     "data": {
      "text/plain": [
       "Pop Art               197\n",
       "Neo-Expressionism     195\n",
       "Art Informel          195\n",
       "Minimalism            189\n",
       "Post-Impressionism    186\n",
       "Name: Category, dtype: int64"
      ]
     },
     "execution_count": 8,
     "metadata": {},
     "output_type": "execute_result"
    }
   ],
   "source": [
    "print(\"Category:\")\n",
    "df[\"Category\"].value_counts().head()"
   ]
  },
  {
   "cell_type": "code",
   "execution_count": 9,
   "metadata": {},
   "outputs": [
    {
     "name": "stdout",
     "output_type": "stream",
     "text": [
      "# of unique artists:  986\n"
     ]
    }
   ],
   "source": [
    "print(\"# of unique artists: \", len(df[\"Artist\"].unique()))"
   ]
  },
  {
   "cell_type": "code",
   "execution_count": 10,
   "metadata": {},
   "outputs": [
    {
     "name": "stdout",
     "output_type": "stream",
     "text": [
      "Year min:  1415\n",
      "Year max:  2012\n",
      "Year range:  597\n"
     ]
    }
   ],
   "source": [
    "print(\"Year min: \", df[\"Year\"].min())\n",
    "print(\"Year max: \", df[\"Year\"].max())\n",
    "print(\"Year range: \", (df[\"Year\"].max() - df[\"Year\"].min()))"
   ]
  },
  {
   "cell_type": "code",
   "execution_count": 11,
   "metadata": {},
   "outputs": [
    {
     "name": "stdout",
     "output_type": "stream",
     "text": [
      "Is painting:\n"
     ]
    },
    {
     "data": {
      "text/plain": [
       "yes    3411\n",
       "no      235\n",
       "Name: Is painting, dtype: int64"
      ]
     },
     "execution_count": 11,
     "metadata": {},
     "output_type": "execute_result"
    }
   ],
   "source": [
    "print(\"Is painting:\")\n",
    "df[\"Is painting\"].value_counts()"
   ]
  },
  {
   "cell_type": "code",
   "execution_count": 12,
   "metadata": {},
   "outputs": [
    {
     "name": "stdout",
     "output_type": "stream",
     "text": [
      "Face or body:\n"
     ]
    },
    {
     "data": {
      "text/plain": [
       "face    1722\n",
       "none    1709\n",
       "body     215\n",
       "Name: Face or body, dtype: int64"
      ]
     },
     "execution_count": 12,
     "metadata": {},
     "output_type": "execute_result"
    }
   ],
   "source": [
    "print(\"Face or body:\")\n",
    "df[\"Face or body\"].value_counts()"
   ]
  },
  {
   "cell_type": "code",
   "execution_count": 13,
   "metadata": {},
   "outputs": [
    {
     "name": "stdout",
     "output_type": "stream",
     "text": [
      "Rating min:  -2.0\n",
      "Rating max:  2.8\n"
     ]
    }
   ],
   "source": [
    "print(\"Rating min: \", df[\"Mean rating\"].min())\n",
    "print(\"Rating max: \", df[\"Mean rating\"].max())"
   ]
  },
  {
   "cell_type": "markdown",
   "metadata": {},
   "source": [
    "## Which paintings have the highest and lowest ratings?"
   ]
  },
  {
   "cell_type": "markdown",
   "metadata": {},
   "source": [
    "### Highest rating\n",
    "- https://www.wikiart.org/en/albert-anker/young-mother-contemplating-her-sleeping-child-in-candlelight-1875"
   ]
  },
  {
   "cell_type": "code",
   "execution_count": 14,
   "metadata": {},
   "outputs": [
    {
     "data": {
      "text/html": [
       "<div>\n",
       "<style scoped>\n",
       "    .dataframe tbody tr th:only-of-type {\n",
       "        vertical-align: middle;\n",
       "    }\n",
       "\n",
       "    .dataframe tbody tr th {\n",
       "        vertical-align: top;\n",
       "    }\n",
       "\n",
       "    .dataframe thead th {\n",
       "        text-align: right;\n",
       "    }\n",
       "</style>\n",
       "<table border=\"1\" class=\"dataframe\">\n",
       "  <thead>\n",
       "    <tr style=\"text-align: right;\">\n",
       "      <th></th>\n",
       "      <th>Style</th>\n",
       "      <th>Category</th>\n",
       "      <th>Artist</th>\n",
       "      <th>Title</th>\n",
       "      <th>Year</th>\n",
       "      <th>Image URL</th>\n",
       "      <th>Painting Info URL</th>\n",
       "      <th>Artist Info URL</th>\n",
       "      <th>Is painting</th>\n",
       "      <th>Face or body</th>\n",
       "      <th>...</th>\n",
       "      <th>Love</th>\n",
       "      <th>Optimism</th>\n",
       "      <th>Pessimism</th>\n",
       "      <th>Regret</th>\n",
       "      <th>Sadness</th>\n",
       "      <th>Shame</th>\n",
       "      <th>Shyness</th>\n",
       "      <th>Surprise</th>\n",
       "      <th>Trust</th>\n",
       "      <th>Neutral</th>\n",
       "    </tr>\n",
       "  </thead>\n",
       "  <tbody>\n",
       "    <tr>\n",
       "      <th>1110</th>\n",
       "      <td>Post Renaissance Art</td>\n",
       "      <td>Realism</td>\n",
       "      <td>Albert Anker</td>\n",
       "      <td>Young mother contemplating her sleeping child ...</td>\n",
       "      <td>1875</td>\n",
       "      <td>https://use2-uploads3.wikiart.org/images/alber...</td>\n",
       "      <td>https://www.wikiart.org/en/albert-anker/young-...</td>\n",
       "      <td>https://www.wikiart.org/en/albert-anker</td>\n",
       "      <td>yes</td>\n",
       "      <td>face</td>\n",
       "      <td>...</td>\n",
       "      <td>0.9</td>\n",
       "      <td>0.1</td>\n",
       "      <td>0.0</td>\n",
       "      <td>0.0</td>\n",
       "      <td>0.0</td>\n",
       "      <td>0.0</td>\n",
       "      <td>0.0</td>\n",
       "      <td>0.1</td>\n",
       "      <td>0.5</td>\n",
       "      <td>0.0</td>\n",
       "    </tr>\n",
       "  </tbody>\n",
       "</table>\n",
       "<p>1 rows × 31 columns</p>\n",
       "</div>"
      ],
      "text/plain": [
       "                     Style Category        Artist  \\\n",
       "1110  Post Renaissance Art  Realism  Albert Anker   \n",
       "\n",
       "                                                  Title  Year  \\\n",
       "1110  Young mother contemplating her sleeping child ...  1875   \n",
       "\n",
       "                                              Image URL  \\\n",
       "1110  https://use2-uploads3.wikiart.org/images/alber...   \n",
       "\n",
       "                                      Painting Info URL  \\\n",
       "1110  https://www.wikiart.org/en/albert-anker/young-...   \n",
       "\n",
       "                              Artist Info URL Is painting Face or body  \\\n",
       "1110  https://www.wikiart.org/en/albert-anker         yes         face   \n",
       "\n",
       "       ...     Love  Optimism  Pessimism  Regret  Sadness  Shame  Shyness  \\\n",
       "1110   ...      0.9       0.1        0.0     0.0      0.0    0.0      0.0   \n",
       "\n",
       "      Surprise  Trust  Neutral  \n",
       "1110       0.1    0.5      0.0  \n",
       "\n",
       "[1 rows x 31 columns]"
      ]
     },
     "execution_count": 14,
     "metadata": {},
     "output_type": "execute_result"
    }
   ],
   "source": [
    "df[df[\"Mean rating\"] == df[\"Mean rating\"].max()]"
   ]
  },
  {
   "cell_type": "code",
   "execution_count": 15,
   "metadata": {},
   "outputs": [
    {
     "data": {
      "text/plain": [
       "2.8"
      ]
     },
     "execution_count": 15,
     "metadata": {},
     "output_type": "execute_result"
    }
   ],
   "source": [
    "df[\"Mean rating\"][1110]"
   ]
  },
  {
   "cell_type": "code",
   "execution_count": 16,
   "metadata": {},
   "outputs": [
    {
     "data": {
      "text/plain": [
       "'Young mother contemplating her sleeping child in candlelight'"
      ]
     },
     "execution_count": 16,
     "metadata": {},
     "output_type": "execute_result"
    }
   ],
   "source": [
    "df[\"Title\"][1110]"
   ]
  },
  {
   "cell_type": "markdown",
   "metadata": {},
   "source": [
    "### Lowest rating\n",
    "- https://www.wikiart.org/en/hans-bellmer/the-doll-1936"
   ]
  },
  {
   "cell_type": "code",
   "execution_count": 17,
   "metadata": {},
   "outputs": [
    {
     "data": {
      "text/html": [
       "<div>\n",
       "<style scoped>\n",
       "    .dataframe tbody tr th:only-of-type {\n",
       "        vertical-align: middle;\n",
       "    }\n",
       "\n",
       "    .dataframe tbody tr th {\n",
       "        vertical-align: top;\n",
       "    }\n",
       "\n",
       "    .dataframe thead th {\n",
       "        text-align: right;\n",
       "    }\n",
       "</style>\n",
       "<table border=\"1\" class=\"dataframe\">\n",
       "  <thead>\n",
       "    <tr style=\"text-align: right;\">\n",
       "      <th></th>\n",
       "      <th>Style</th>\n",
       "      <th>Category</th>\n",
       "      <th>Artist</th>\n",
       "      <th>Title</th>\n",
       "      <th>Year</th>\n",
       "      <th>Image URL</th>\n",
       "      <th>Painting Info URL</th>\n",
       "      <th>Artist Info URL</th>\n",
       "      <th>Is painting</th>\n",
       "      <th>Face or body</th>\n",
       "      <th>...</th>\n",
       "      <th>Love</th>\n",
       "      <th>Optimism</th>\n",
       "      <th>Pessimism</th>\n",
       "      <th>Regret</th>\n",
       "      <th>Sadness</th>\n",
       "      <th>Shame</th>\n",
       "      <th>Shyness</th>\n",
       "      <th>Surprise</th>\n",
       "      <th>Trust</th>\n",
       "      <th>Neutral</th>\n",
       "    </tr>\n",
       "  </thead>\n",
       "  <tbody>\n",
       "    <tr>\n",
       "      <th>2046</th>\n",
       "      <td>Modern Art</td>\n",
       "      <td>Surrealism</td>\n",
       "      <td>Hans Bellmer</td>\n",
       "      <td>The Doll</td>\n",
       "      <td>1936</td>\n",
       "      <td>https://use2-uploads5.wikiart.org/images/hans-...</td>\n",
       "      <td>https://www.wikiart.org/en/hans-bellmer/the-do...</td>\n",
       "      <td>https://www.wikiart.org/en/hans-bellmer</td>\n",
       "      <td>no</td>\n",
       "      <td>body</td>\n",
       "      <td>...</td>\n",
       "      <td>0.0</td>\n",
       "      <td>0.1</td>\n",
       "      <td>0.0</td>\n",
       "      <td>0.0</td>\n",
       "      <td>0.1</td>\n",
       "      <td>0.1</td>\n",
       "      <td>0.1</td>\n",
       "      <td>0.5</td>\n",
       "      <td>0.0</td>\n",
       "      <td>0.0</td>\n",
       "    </tr>\n",
       "  </tbody>\n",
       "</table>\n",
       "<p>1 rows × 31 columns</p>\n",
       "</div>"
      ],
      "text/plain": [
       "           Style    Category        Artist     Title  Year  \\\n",
       "2046  Modern Art  Surrealism  Hans Bellmer  The Doll  1936   \n",
       "\n",
       "                                              Image URL  \\\n",
       "2046  https://use2-uploads5.wikiart.org/images/hans-...   \n",
       "\n",
       "                                      Painting Info URL  \\\n",
       "2046  https://www.wikiart.org/en/hans-bellmer/the-do...   \n",
       "\n",
       "                              Artist Info URL Is painting Face or body  \\\n",
       "2046  https://www.wikiart.org/en/hans-bellmer          no         body   \n",
       "\n",
       "       ...     Love  Optimism  Pessimism  Regret  Sadness  Shame  Shyness  \\\n",
       "2046   ...      0.0       0.1        0.0     0.0      0.1    0.1      0.1   \n",
       "\n",
       "      Surprise  Trust  Neutral  \n",
       "2046       0.5    0.0      0.0  \n",
       "\n",
       "[1 rows x 31 columns]"
      ]
     },
     "execution_count": 17,
     "metadata": {},
     "output_type": "execute_result"
    }
   ],
   "source": [
    "df[df[\"Mean rating\"] == df[\"Mean rating\"].min()]"
   ]
  },
  {
   "cell_type": "code",
   "execution_count": 18,
   "metadata": {},
   "outputs": [
    {
     "data": {
      "text/plain": [
       "-2.0"
      ]
     },
     "execution_count": 18,
     "metadata": {},
     "output_type": "execute_result"
    }
   ],
   "source": [
    "df[\"Mean rating\"][2046]"
   ]
  },
  {
   "cell_type": "code",
   "execution_count": 19,
   "metadata": {},
   "outputs": [
    {
     "data": {
      "text/plain": [
       "'The Doll'"
      ]
     },
     "execution_count": 19,
     "metadata": {},
     "output_type": "execute_result"
    }
   ],
   "source": [
    "df[\"Title\"][2046]"
   ]
  },
  {
   "cell_type": "markdown",
   "metadata": {},
   "source": [
    "## Exploring ratings differences in various columns"
   ]
  },
  {
   "cell_type": "markdown",
   "metadata": {},
   "source": [
    "### Style"
   ]
  },
  {
   "cell_type": "code",
   "execution_count": 20,
   "metadata": {},
   "outputs": [
    {
     "data": {
      "text/html": [
       "<div>\n",
       "<style scoped>\n",
       "    .dataframe tbody tr th:only-of-type {\n",
       "        vertical-align: middle;\n",
       "    }\n",
       "\n",
       "    .dataframe tbody tr th {\n",
       "        vertical-align: top;\n",
       "    }\n",
       "\n",
       "    .dataframe thead tr th {\n",
       "        text-align: left;\n",
       "    }\n",
       "</style>\n",
       "<table border=\"1\" class=\"dataframe\">\n",
       "  <thead>\n",
       "    <tr>\n",
       "      <th></th>\n",
       "      <th>Style</th>\n",
       "      <th colspan=\"3\" halign=\"left\">Mean rating</th>\n",
       "    </tr>\n",
       "    <tr>\n",
       "      <th></th>\n",
       "      <th></th>\n",
       "      <th>mean</th>\n",
       "      <th>amin</th>\n",
       "      <th>amax</th>\n",
       "    </tr>\n",
       "  </thead>\n",
       "  <tbody>\n",
       "    <tr>\n",
       "      <th>4</th>\n",
       "      <td>Post Renaissance Art</td>\n",
       "      <td>1.525750</td>\n",
       "      <td>-0.9</td>\n",
       "      <td>2.80</td>\n",
       "    </tr>\n",
       "    <tr>\n",
       "      <th>5</th>\n",
       "      <td>Renaissance Art</td>\n",
       "      <td>1.303833</td>\n",
       "      <td>-0.7</td>\n",
       "      <td>2.70</td>\n",
       "    </tr>\n",
       "    <tr>\n",
       "      <th>3</th>\n",
       "      <td>Modern Art,Post Renaissance Art</td>\n",
       "      <td>1.300000</td>\n",
       "      <td>1.3</td>\n",
       "      <td>1.30</td>\n",
       "    </tr>\n",
       "    <tr>\n",
       "      <th>2</th>\n",
       "      <td>Modern Art</td>\n",
       "      <td>0.632693</td>\n",
       "      <td>-2.0</td>\n",
       "      <td>2.67</td>\n",
       "    </tr>\n",
       "    <tr>\n",
       "      <th>0</th>\n",
       "      <td>Contemporary Art</td>\n",
       "      <td>-0.111005</td>\n",
       "      <td>-1.7</td>\n",
       "      <td>1.50</td>\n",
       "    </tr>\n",
       "    <tr>\n",
       "      <th>1</th>\n",
       "      <td>Contemporary Art,Modern Art</td>\n",
       "      <td>-0.472857</td>\n",
       "      <td>-1.7</td>\n",
       "      <td>0.20</td>\n",
       "    </tr>\n",
       "  </tbody>\n",
       "</table>\n",
       "</div>"
      ],
      "text/plain": [
       "                             Style Mean rating           \n",
       "                                          mean amin  amax\n",
       "4             Post Renaissance Art    1.525750 -0.9  2.80\n",
       "5                  Renaissance Art    1.303833 -0.7  2.70\n",
       "3  Modern Art,Post Renaissance Art    1.300000  1.3  1.30\n",
       "2                       Modern Art    0.632693 -2.0  2.67\n",
       "0                 Contemporary Art   -0.111005 -1.7  1.50\n",
       "1      Contemporary Art,Modern Art   -0.472857 -1.7  0.20"
      ]
     },
     "execution_count": 20,
     "metadata": {},
     "output_type": "execute_result"
    }
   ],
   "source": [
    "agg_d = {\"Mean rating\" : [np.mean, np.min, np.max]}\n",
    "style_rate_gb = df.groupby(\"Style\").agg(agg_d).reset_index()\n",
    "style_rate_gb.sort_values([(\"Mean rating\", \"mean\")], ascending = False)"
   ]
  },
  {
   "cell_type": "code",
   "execution_count": 21,
   "metadata": {},
   "outputs": [
    {
     "data": {
      "text/plain": [
       "Style\n",
       "Modern Art                         2362\n",
       "Post Renaissance Art                800\n",
       "Renaissance Art                     287\n",
       "Contemporary Art                    189\n",
       "Contemporary Art,Modern Art           7\n",
       "Modern Art,Post Renaissance Art       1\n",
       "dtype: int64"
      ]
     },
     "execution_count": 21,
     "metadata": {},
     "output_type": "execute_result"
    }
   ],
   "source": [
    "df.groupby(\"Style\").size().sort_values(ascending = False)"
   ]
  },
  {
   "cell_type": "markdown",
   "metadata": {},
   "source": [
    "### Category"
   ]
  },
  {
   "cell_type": "code",
   "execution_count": 22,
   "metadata": {},
   "outputs": [
    {
     "data": {
      "text/html": [
       "<div>\n",
       "<style scoped>\n",
       "    .dataframe tbody tr th:only-of-type {\n",
       "        vertical-align: middle;\n",
       "    }\n",
       "\n",
       "    .dataframe tbody tr th {\n",
       "        vertical-align: top;\n",
       "    }\n",
       "\n",
       "    .dataframe thead tr th {\n",
       "        text-align: left;\n",
       "    }\n",
       "</style>\n",
       "<table border=\"1\" class=\"dataframe\">\n",
       "  <thead>\n",
       "    <tr>\n",
       "      <th></th>\n",
       "      <th>Category</th>\n",
       "      <th colspan=\"3\" halign=\"left\">Mean rating</th>\n",
       "    </tr>\n",
       "    <tr>\n",
       "      <th></th>\n",
       "      <th></th>\n",
       "      <th>mean</th>\n",
       "      <th>amin</th>\n",
       "      <th>amax</th>\n",
       "    </tr>\n",
       "  </thead>\n",
       "  <tbody>\n",
       "    <tr>\n",
       "      <th>25</th>\n",
       "      <td>Impressionism</td>\n",
       "      <td>1.713832</td>\n",
       "      <td>0.50</td>\n",
       "      <td>2.64</td>\n",
       "    </tr>\n",
       "    <tr>\n",
       "      <th>26</th>\n",
       "      <td>Impressionism,Post-Impressionism</td>\n",
       "      <td>1.700000</td>\n",
       "      <td>1.70</td>\n",
       "      <td>1.70</td>\n",
       "    </tr>\n",
       "    <tr>\n",
       "      <th>35</th>\n",
       "      <td>Neoclassicism</td>\n",
       "      <td>1.569291</td>\n",
       "      <td>0.18</td>\n",
       "      <td>2.73</td>\n",
       "    </tr>\n",
       "    <tr>\n",
       "      <th>41</th>\n",
       "      <td>Rococo</td>\n",
       "      <td>1.566687</td>\n",
       "      <td>-0.70</td>\n",
       "      <td>2.60</td>\n",
       "    </tr>\n",
       "    <tr>\n",
       "      <th>36</th>\n",
       "      <td>Neoclassicism,Romanticism</td>\n",
       "      <td>1.561429</td>\n",
       "      <td>1.20</td>\n",
       "      <td>2.25</td>\n",
       "    </tr>\n",
       "  </tbody>\n",
       "</table>\n",
       "</div>"
      ],
      "text/plain": [
       "                            Category Mean rating            \n",
       "                                            mean  amin  amax\n",
       "25                     Impressionism    1.713832  0.50  2.64\n",
       "26  Impressionism,Post-Impressionism    1.700000  1.70  1.70\n",
       "35                     Neoclassicism    1.569291  0.18  2.73\n",
       "41                            Rococo    1.566687 -0.70  2.60\n",
       "36         Neoclassicism,Romanticism    1.561429  1.20  2.25"
      ]
     },
     "execution_count": 22,
     "metadata": {},
     "output_type": "execute_result"
    }
   ],
   "source": [
    "agg_d = {\"Mean rating\" : [np.mean, np.min, np.max]}\n",
    "category_rate_gb = df.groupby(\"Category\").agg(agg_d).reset_index()\n",
    "category_rate_gb.sort_values([(\"Mean rating\", \"mean\")], ascending = False).head()"
   ]
  },
  {
   "cell_type": "code",
   "execution_count": 33,
   "metadata": {
    "scrolled": true
   },
   "outputs": [
    {
     "data": {
      "text/plain": [
       "Category\n",
       "Pop Art                   197\n",
       "Neo-Expressionism         195\n",
       "Art Informel              195\n",
       "Minimalism                189\n",
       "Surrealism                186\n",
       "Post-Impressionism        186\n",
       "Abstract Expressionism    184\n",
       "Expressionism             181\n",
       "Color Field Painting      180\n",
       "Lyrical Abstraction       179\n",
       "dtype: int64"
      ]
     },
     "execution_count": 33,
     "metadata": {},
     "output_type": "execute_result"
    }
   ],
   "source": [
    "df.groupby(\"Category\").size().sort_values(ascending = False).head(10)"
   ]
  },
  {
   "cell_type": "markdown",
   "metadata": {},
   "source": [
    "#### Create another csv for the modified category dataframe"
   ]
  },
  {
   "cell_type": "code",
   "execution_count": 88,
   "metadata": {},
   "outputs": [
    {
     "data": {
      "text/html": [
       "<div>\n",
       "<style scoped>\n",
       "    .dataframe tbody tr th:only-of-type {\n",
       "        vertical-align: middle;\n",
       "    }\n",
       "\n",
       "    .dataframe tbody tr th {\n",
       "        vertical-align: top;\n",
       "    }\n",
       "\n",
       "    .dataframe thead tr th {\n",
       "        text-align: left;\n",
       "    }\n",
       "</style>\n",
       "<table border=\"1\" class=\"dataframe\">\n",
       "  <thead>\n",
       "    <tr>\n",
       "      <th></th>\n",
       "      <th>Category</th>\n",
       "      <th colspan=\"2\" halign=\"left\">Mean rating</th>\n",
       "    </tr>\n",
       "    <tr>\n",
       "      <th></th>\n",
       "      <th></th>\n",
       "      <th>mean</th>\n",
       "      <th>count</th>\n",
       "    </tr>\n",
       "  </thead>\n",
       "  <tbody>\n",
       "    <tr>\n",
       "      <th>9</th>\n",
       "      <td>Impressionism</td>\n",
       "      <td>1.713832</td>\n",
       "      <td>167</td>\n",
       "    </tr>\n",
       "    <tr>\n",
       "      <th>14</th>\n",
       "      <td>Neoclassicism</td>\n",
       "      <td>1.569291</td>\n",
       "      <td>141</td>\n",
       "    </tr>\n",
       "    <tr>\n",
       "      <th>19</th>\n",
       "      <td>Rococo</td>\n",
       "      <td>1.566687</td>\n",
       "      <td>163</td>\n",
       "    </tr>\n",
       "    <tr>\n",
       "      <th>18</th>\n",
       "      <td>Realism</td>\n",
       "      <td>1.556607</td>\n",
       "      <td>168</td>\n",
       "    </tr>\n",
       "    <tr>\n",
       "      <th>20</th>\n",
       "      <td>Romanticism</td>\n",
       "      <td>1.505235</td>\n",
       "      <td>170</td>\n",
       "    </tr>\n",
       "    <tr>\n",
       "      <th>8</th>\n",
       "      <td>High Renaissance</td>\n",
       "      <td>1.497429</td>\n",
       "      <td>70</td>\n",
       "    </tr>\n",
       "    <tr>\n",
       "      <th>17</th>\n",
       "      <td>Post-Impressionism</td>\n",
       "      <td>1.442796</td>\n",
       "      <td>186</td>\n",
       "    </tr>\n",
       "    <tr>\n",
       "      <th>3</th>\n",
       "      <td>Baroque</td>\n",
       "      <td>1.428013</td>\n",
       "      <td>151</td>\n",
       "    </tr>\n",
       "    <tr>\n",
       "      <th>6</th>\n",
       "      <td>Early Renaissance</td>\n",
       "      <td>1.265616</td>\n",
       "      <td>73</td>\n",
       "    </tr>\n",
       "    <tr>\n",
       "      <th>11</th>\n",
       "      <td>Magic Realism</td>\n",
       "      <td>1.235847</td>\n",
       "      <td>118</td>\n",
       "    </tr>\n",
       "    <tr>\n",
       "      <th>15</th>\n",
       "      <td>Northern Renaissance</td>\n",
       "      <td>1.229097</td>\n",
       "      <td>144</td>\n",
       "    </tr>\n",
       "    <tr>\n",
       "      <th>7</th>\n",
       "      <td>Expressionism</td>\n",
       "      <td>0.962597</td>\n",
       "      <td>181</td>\n",
       "    </tr>\n",
       "    <tr>\n",
       "      <th>5</th>\n",
       "      <td>Cubism</td>\n",
       "      <td>0.783672</td>\n",
       "      <td>177</td>\n",
       "    </tr>\n",
       "    <tr>\n",
       "      <th>22</th>\n",
       "      <td>Combination</td>\n",
       "      <td>0.635380</td>\n",
       "      <td>54</td>\n",
       "    </tr>\n",
       "    <tr>\n",
       "      <th>16</th>\n",
       "      <td>Pop Art</td>\n",
       "      <td>0.499797</td>\n",
       "      <td>197</td>\n",
       "    </tr>\n",
       "    <tr>\n",
       "      <th>21</th>\n",
       "      <td>Surrealism</td>\n",
       "      <td>0.455215</td>\n",
       "      <td>186</td>\n",
       "    </tr>\n",
       "    <tr>\n",
       "      <th>13</th>\n",
       "      <td>Neo-Expressionism</td>\n",
       "      <td>0.430103</td>\n",
       "      <td>195</td>\n",
       "    </tr>\n",
       "    <tr>\n",
       "      <th>10</th>\n",
       "      <td>Lyrical Abstraction</td>\n",
       "      <td>0.410670</td>\n",
       "      <td>179</td>\n",
       "    </tr>\n",
       "    <tr>\n",
       "      <th>0</th>\n",
       "      <td>Abstract Art</td>\n",
       "      <td>0.287809</td>\n",
       "      <td>178</td>\n",
       "    </tr>\n",
       "    <tr>\n",
       "      <th>1</th>\n",
       "      <td>Abstract Expressionism</td>\n",
       "      <td>0.191467</td>\n",
       "      <td>184</td>\n",
       "    </tr>\n",
       "    <tr>\n",
       "      <th>4</th>\n",
       "      <td>Color Field Painting</td>\n",
       "      <td>0.119389</td>\n",
       "      <td>180</td>\n",
       "    </tr>\n",
       "    <tr>\n",
       "      <th>2</th>\n",
       "      <td>Art Informel</td>\n",
       "      <td>0.034154</td>\n",
       "      <td>195</td>\n",
       "    </tr>\n",
       "    <tr>\n",
       "      <th>12</th>\n",
       "      <td>Minimalism</td>\n",
       "      <td>-0.111005</td>\n",
       "      <td>189</td>\n",
       "    </tr>\n",
       "  </tbody>\n",
       "</table>\n",
       "</div>"
      ],
      "text/plain": [
       "                  Category Mean rating      \n",
       "                                  mean count\n",
       "9            Impressionism    1.713832   167\n",
       "14           Neoclassicism    1.569291   141\n",
       "19                  Rococo    1.566687   163\n",
       "18                 Realism    1.556607   168\n",
       "20             Romanticism    1.505235   170\n",
       "8         High Renaissance    1.497429    70\n",
       "17      Post-Impressionism    1.442796   186\n",
       "3                  Baroque    1.428013   151\n",
       "6        Early Renaissance    1.265616    73\n",
       "11           Magic Realism    1.235847   118\n",
       "15    Northern Renaissance    1.229097   144\n",
       "7            Expressionism    0.962597   181\n",
       "5                   Cubism    0.783672   177\n",
       "22             Combination    0.635380    54\n",
       "16                 Pop Art    0.499797   197\n",
       "21              Surrealism    0.455215   186\n",
       "13       Neo-Expressionism    0.430103   195\n",
       "10     Lyrical Abstraction    0.410670   179\n",
       "0             Abstract Art    0.287809   178\n",
       "1   Abstract Expressionism    0.191467   184\n",
       "4     Color Field Painting    0.119389   180\n",
       "2             Art Informel    0.034154   195\n",
       "12              Minimalism   -0.111005   189"
      ]
     },
     "execution_count": 88,
     "metadata": {},
     "output_type": "execute_result"
    }
   ],
   "source": [
    "category_df = df.loc[df[\"Category\"].isin(['Pop Art', 'Neo-Expressionism', 'Art Informel', 'Minimalism',\n",
    "       'Surrealism', 'Post-Impressionism', 'Abstract Expressionism',\n",
    "       'Expressionism', 'Color Field Painting', 'Lyrical Abstraction',\n",
    "       'Abstract Art', 'Cubism', 'Romanticism', 'Realism',\n",
    "       'Impressionism', 'Rococo', 'Baroque', 'Northern Renaissance',\n",
    "       'Neoclassicism', 'Magic Realism', 'Early Renaissance',\n",
    "       'High Renaissance', 'Combination'])]\n",
    "\n",
    "agg_d = {\"Mean rating\" : [np.mean, \"count\"]}\n",
    "category_gb = category_df.groupby(\"Category\").agg(agg_d).reset_index()\n",
    "category_gb = category_gb.append(pd.Series([\"Combination\", 0.635380, 54], index = category_gb.columns), ignore_index=True)\n",
    "category_gb.to_csv(\"category_modified.csv\")\n",
    "category_gb.sort_values([(\"Mean rating\", \"mean\")], ascending = False)"
   ]
  },
  {
   "cell_type": "code",
   "execution_count": 85,
   "metadata": {},
   "outputs": [],
   "source": [
    "# 54 combinations\n",
    "# 0.635380 mean rating\n",
    "\n",
    "not_category_df = df.loc[~df[\"Category\"].isin(['Pop Art', 'Neo-Expressionism', 'Art Informel', 'Minimalism',\n",
    "       'Surrealism', 'Post-Impressionism', 'Abstract Expressionism',\n",
    "       'Expressionism', 'Color Field Painting', 'Lyrical Abstraction',\n",
    "       'Abstract Art', 'Cubism', 'Romanticism', 'Realism',\n",
    "       'Impressionism', 'Rococo', 'Baroque', 'Northern Renaissance',\n",
    "       'Neoclassicism', 'Magic Realism', 'Early Renaissance',\n",
    "       'High Renaissance', 'Combination'])]\n",
    "\n",
    "agg_d = {\"Mean rating\" : [np.mean, \"count\"]}\n",
    "not_category_gb = category_df.groupby(\"Category\").agg(agg_d).reset_index()\n",
    "#not_category_gb.sort_values([(\"Mean rating\", \"mean\")], ascending = False)"
   ]
  },
  {
   "cell_type": "markdown",
   "metadata": {},
   "source": [
    "### Artist"
   ]
  },
  {
   "cell_type": "code",
   "execution_count": 24,
   "metadata": {},
   "outputs": [
    {
     "data": {
      "text/html": [
       "<div>\n",
       "<style scoped>\n",
       "    .dataframe tbody tr th:only-of-type {\n",
       "        vertical-align: middle;\n",
       "    }\n",
       "\n",
       "    .dataframe tbody tr th {\n",
       "        vertical-align: top;\n",
       "    }\n",
       "\n",
       "    .dataframe thead tr th {\n",
       "        text-align: left;\n",
       "    }\n",
       "</style>\n",
       "<table border=\"1\" class=\"dataframe\">\n",
       "  <thead>\n",
       "    <tr>\n",
       "      <th></th>\n",
       "      <th>Artist</th>\n",
       "      <th colspan=\"3\" halign=\"left\">Mean rating</th>\n",
       "    </tr>\n",
       "    <tr>\n",
       "      <th></th>\n",
       "      <th></th>\n",
       "      <th>mean</th>\n",
       "      <th>amin</th>\n",
       "      <th>amax</th>\n",
       "    </tr>\n",
       "  </thead>\n",
       "  <tbody>\n",
       "    <tr>\n",
       "      <th>302</th>\n",
       "      <td>Frederic Remington</td>\n",
       "      <td>2.60</td>\n",
       "      <td>2.60</td>\n",
       "      <td>2.60</td>\n",
       "    </tr>\n",
       "    <tr>\n",
       "      <th>959</th>\n",
       "      <td>William Collins</td>\n",
       "      <td>2.50</td>\n",
       "      <td>2.50</td>\n",
       "      <td>2.50</td>\n",
       "    </tr>\n",
       "    <tr>\n",
       "      <th>559</th>\n",
       "      <td>Julius LeBlanc Stewart</td>\n",
       "      <td>2.50</td>\n",
       "      <td>2.50</td>\n",
       "      <td>2.50</td>\n",
       "    </tr>\n",
       "    <tr>\n",
       "      <th>677</th>\n",
       "      <td>Maxfield Parrish</td>\n",
       "      <td>2.46</td>\n",
       "      <td>2.46</td>\n",
       "      <td>2.46</td>\n",
       "    </tr>\n",
       "    <tr>\n",
       "      <th>581</th>\n",
       "      <td>Konstantin Yuon</td>\n",
       "      <td>2.45</td>\n",
       "      <td>2.45</td>\n",
       "      <td>2.45</td>\n",
       "    </tr>\n",
       "  </tbody>\n",
       "</table>\n",
       "</div>"
      ],
      "text/plain": [
       "                     Artist Mean rating            \n",
       "                                   mean  amin  amax\n",
       "302      Frederic Remington        2.60  2.60  2.60\n",
       "959         William Collins        2.50  2.50  2.50\n",
       "559  Julius LeBlanc Stewart        2.50  2.50  2.50\n",
       "677        Maxfield Parrish        2.46  2.46  2.46\n",
       "581         Konstantin Yuon        2.45  2.45  2.45"
      ]
     },
     "execution_count": 24,
     "metadata": {},
     "output_type": "execute_result"
    }
   ],
   "source": [
    "agg_d = {\"Mean rating\" : [np.mean, np.min, np.max]}\n",
    "category_rate_gb = df.groupby(\"Artist\").agg(agg_d).reset_index()\n",
    "category_rate_gb.sort_values([(\"Mean rating\", \"mean\")], ascending = False).head()"
   ]
  },
  {
   "cell_type": "code",
   "execution_count": 25,
   "metadata": {},
   "outputs": [
    {
     "data": {
      "text/plain": [
       "Artist\n",
       "Eyvind Earle                 25\n",
       "Sam Francis                  20\n",
       "Willi Baumeister             19\n",
       "Mark Rothko                  17\n",
       "Tivadar Kosztka Csontvary    16\n",
       "Corneille                    15\n",
       "Kazuo Shiraga                14\n",
       "Francisco de Zurbaran        14\n",
       "John Ferren                  14\n",
       "Albert Marquet               14\n",
       "dtype: int64"
      ]
     },
     "execution_count": 25,
     "metadata": {},
     "output_type": "execute_result"
    }
   ],
   "source": [
    "df.groupby(\"Artist\").size().sort_values(ascending = False).head(10)"
   ]
  },
  {
   "cell_type": "markdown",
   "metadata": {},
   "source": [
    "### Is painting"
   ]
  },
  {
   "cell_type": "code",
   "execution_count": 26,
   "metadata": {},
   "outputs": [
    {
     "data": {
      "text/html": [
       "<div>\n",
       "<style scoped>\n",
       "    .dataframe tbody tr th:only-of-type {\n",
       "        vertical-align: middle;\n",
       "    }\n",
       "\n",
       "    .dataframe tbody tr th {\n",
       "        vertical-align: top;\n",
       "    }\n",
       "\n",
       "    .dataframe thead tr th {\n",
       "        text-align: left;\n",
       "    }\n",
       "</style>\n",
       "<table border=\"1\" class=\"dataframe\">\n",
       "  <thead>\n",
       "    <tr>\n",
       "      <th></th>\n",
       "      <th>Is painting</th>\n",
       "      <th colspan=\"3\" halign=\"left\">Mean rating</th>\n",
       "    </tr>\n",
       "    <tr>\n",
       "      <th></th>\n",
       "      <th></th>\n",
       "      <th>mean</th>\n",
       "      <th>amin</th>\n",
       "      <th>amax</th>\n",
       "    </tr>\n",
       "  </thead>\n",
       "  <tbody>\n",
       "    <tr>\n",
       "      <th>1</th>\n",
       "      <td>yes</td>\n",
       "      <td>0.876552</td>\n",
       "      <td>-1.9</td>\n",
       "      <td>2.8</td>\n",
       "    </tr>\n",
       "    <tr>\n",
       "      <th>0</th>\n",
       "      <td>no</td>\n",
       "      <td>0.324723</td>\n",
       "      <td>-2.0</td>\n",
       "      <td>2.3</td>\n",
       "    </tr>\n",
       "  </tbody>\n",
       "</table>\n",
       "</div>"
      ],
      "text/plain": [
       "  Is painting Mean rating          \n",
       "                     mean amin amax\n",
       "1         yes    0.876552 -1.9  2.8\n",
       "0          no    0.324723 -2.0  2.3"
      ]
     },
     "execution_count": 26,
     "metadata": {},
     "output_type": "execute_result"
    }
   ],
   "source": [
    "agg_d = {\"Mean rating\" : [np.mean, np.min, np.max]}\n",
    "category_rate_gb = df.groupby(\"Is painting\").agg(agg_d).reset_index()\n",
    "category_rate_gb.sort_values([(\"Mean rating\", \"mean\")], ascending = False).head()"
   ]
  },
  {
   "cell_type": "code",
   "execution_count": 27,
   "metadata": {},
   "outputs": [
    {
     "data": {
      "text/plain": [
       "Is painting\n",
       "yes    3411\n",
       "no      235\n",
       "dtype: int64"
      ]
     },
     "execution_count": 27,
     "metadata": {},
     "output_type": "execute_result"
    }
   ],
   "source": [
    "df.groupby(\"Is painting\").size().sort_values(ascending = False)"
   ]
  },
  {
   "cell_type": "markdown",
   "metadata": {},
   "source": [
    "### Face or body"
   ]
  },
  {
   "cell_type": "code",
   "execution_count": 28,
   "metadata": {},
   "outputs": [
    {
     "data": {
      "text/html": [
       "<div>\n",
       "<style scoped>\n",
       "    .dataframe tbody tr th:only-of-type {\n",
       "        vertical-align: middle;\n",
       "    }\n",
       "\n",
       "    .dataframe tbody tr th {\n",
       "        vertical-align: top;\n",
       "    }\n",
       "\n",
       "    .dataframe thead tr th {\n",
       "        text-align: left;\n",
       "    }\n",
       "</style>\n",
       "<table border=\"1\" class=\"dataframe\">\n",
       "  <thead>\n",
       "    <tr>\n",
       "      <th></th>\n",
       "      <th>Face or body</th>\n",
       "      <th colspan=\"4\" halign=\"left\">Mean rating</th>\n",
       "    </tr>\n",
       "    <tr>\n",
       "      <th></th>\n",
       "      <th></th>\n",
       "      <th>mean</th>\n",
       "      <th>amin</th>\n",
       "      <th>amax</th>\n",
       "      <th>size</th>\n",
       "    </tr>\n",
       "  </thead>\n",
       "  <tbody>\n",
       "    <tr>\n",
       "      <th>1</th>\n",
       "      <td>face</td>\n",
       "      <td>1.238165</td>\n",
       "      <td>-1.8</td>\n",
       "      <td>2.80</td>\n",
       "      <td>1722</td>\n",
       "    </tr>\n",
       "    <tr>\n",
       "      <th>0</th>\n",
       "      <td>body</td>\n",
       "      <td>1.082000</td>\n",
       "      <td>-2.0</td>\n",
       "      <td>2.58</td>\n",
       "      <td>215</td>\n",
       "    </tr>\n",
       "    <tr>\n",
       "      <th>2</th>\n",
       "      <td>none</td>\n",
       "      <td>0.410462</td>\n",
       "      <td>-1.9</td>\n",
       "      <td>2.64</td>\n",
       "      <td>1709</td>\n",
       "    </tr>\n",
       "  </tbody>\n",
       "</table>\n",
       "</div>"
      ],
      "text/plain": [
       "  Face or body Mean rating                 \n",
       "                      mean amin  amax  size\n",
       "1         face    1.238165 -1.8  2.80  1722\n",
       "0         body    1.082000 -2.0  2.58   215\n",
       "2         none    0.410462 -1.9  2.64  1709"
      ]
     },
     "execution_count": 28,
     "metadata": {},
     "output_type": "execute_result"
    }
   ],
   "source": [
    "agg_d = {\"Mean rating\" : [np.mean, np.min, np.max, 'size']}\n",
    "category_rate_gb = df.groupby(\"Face or body\").agg(agg_d).reset_index()\n",
    "category_rate_gb.sort_values([(\"Mean rating\", \"mean\")], ascending = False).head()"
   ]
  },
  {
   "cell_type": "code",
   "execution_count": 29,
   "metadata": {},
   "outputs": [
    {
     "data": {
      "text/plain": [
       "Face or body\n",
       "face    1722\n",
       "none    1709\n",
       "body     215\n",
       "dtype: int64"
      ]
     },
     "execution_count": 29,
     "metadata": {},
     "output_type": "execute_result"
    }
   ],
   "source": [
    "df.groupby(\"Face or body\").size().sort_values(ascending = False)"
   ]
  },
  {
   "cell_type": "code",
   "execution_count": null,
   "metadata": {},
   "outputs": [],
   "source": []
  }
 ],
 "metadata": {
  "kernelspec": {
   "display_name": "Python 3",
   "language": "python",
   "name": "python3"
  },
  "language_info": {
   "codemirror_mode": {
    "name": "ipython",
    "version": 3
   },
   "file_extension": ".py",
   "mimetype": "text/x-python",
   "name": "python",
   "nbconvert_exporter": "python",
   "pygments_lexer": "ipython3",
   "version": "3.6.7"
  }
 },
 "nbformat": 4,
 "nbformat_minor": 2
}
